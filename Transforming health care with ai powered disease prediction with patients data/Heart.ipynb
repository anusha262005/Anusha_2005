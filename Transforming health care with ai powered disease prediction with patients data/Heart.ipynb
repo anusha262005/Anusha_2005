{
  "metadata": {
    "kernelspec": {
      "name": "python",
      "display_name": "Python (Pyodide)",
      "language": "python"
    },
    "language_info": {
      "codemirror_mode": {
        "name": "python",
        "version": 3
      },
      "file_extension": ".py",
      "mimetype": "text/x-python",
      "name": "python",
      "nbconvert_exporter": "python",
      "pygments_lexer": "ipython3",
      "version": "3.8"
    }
  },
  "nbformat_minor": 5,
  "nbformat": 4,
  "cells": [
    {
      "id": "d18274d3-c787-411d-b7bd-4282e7f65a93",
      "cell_type": "code",
      "source": "!pip install pandas numpy matplotlib seaborn scikit-learn joblib\n",
      "metadata": {
        "trusted": true
      },
      "outputs": [],
      "execution_count": null
    },
    {
      "id": "55e2b48d-3240-4702-b9ae-2629fdf698aa",
      "cell_type": "code",
      "source": "import pandas as pd\nimport numpy as np\nimport matplotlib.pyplot as plt\nimport seaborn as sns\nfrom sklearn.model_selection import train_test_split\nfrom sklearn.preprocessing import StandardScaler\nfrom sklearn.ensemble import RandomForestClassifier\nfrom sklearn.metrics import classification_report, confusion_matrix, accuracy_score\nfrom sklearn.model_selection import GridSearchCV\nimport joblib",
      "metadata": {
        "trusted": true
      },
      "outputs": [],
      "execution_count": null
    },
    {
      "id": "e6573796-8ff3-4f78-a33b-d4a9c2e9f26d",
      "cell_type": "code",
      "source": "# Load the dataset\ndf = pd.read_csv('heart.csv')\n\n# Display first 5 rows\ndf.head()\n",
      "metadata": {
        "trusted": true
      },
      "outputs": [],
      "execution_count": null
    },
    {
      "id": "f82f25dc-7cbb-4080-bac8-8b4f6e2161ed",
      "cell_type": "code",
      "source": "plt.figure(figsize=(12, 8))\nsns.heatmap(df.corr(), annot=True, cmap='coolwarm', fmt='.2f')\nplt.title('Correlation Matrix')\nplt.show()",
      "metadata": {
        "trusted": true
      },
      "outputs": [],
      "execution_count": null
    },
    {
      "id": "88e2c509-75e3-410c-8905-0987b2c2eccd",
      "cell_type": "code",
      "source": "sns.countplot(x='target', data=df)\nplt.title('Distribution of Heart Disease Cases')\nplt.show()",
      "metadata": {
        "trusted": true
      },
      "outputs": [],
      "execution_count": null
    },
    {
      "id": "bbe73c1b-5640-490a-8913-8b5b98eba22d",
      "cell_type": "code",
      "source": "df.isnull().sum()",
      "metadata": {
        "trusted": true
      },
      "outputs": [],
      "execution_count": null
    },
    {
      "id": "5280e17f-b810-478f-8fa8-072cb93af9a7",
      "cell_type": "code",
      "source": "df = df.drop_duplicates()",
      "metadata": {
        "trusted": true
      },
      "outputs": [],
      "execution_count": null
    },
    {
      "id": "d9dfe89d-ed8d-4aa6-909c-1a359f60dc0a",
      "cell_type": "code",
      "source": "X = df.drop(['target', 'age_group'], axis=1)  # Features\ny = df['target']  # Target variable\n\nX_train, X_test, y_train, y_test = train_test_split(X, y, test_size=0.3, random_state=42)",
      "metadata": {
        "trusted": true
      },
      "outputs": [],
      "execution_count": null
    },
    {
      "id": "d3a73875-200a-461f-941c-5cec3b65978a",
      "cell_type": "code",
      "source": "scaler = StandardScaler()\nX_train_scaled = scaler.fit_transform(X_train)\nX_test_scaled = scaler.transform(X_test)",
      "metadata": {
        "trusted": true
      },
      "outputs": [],
      "execution_count": null
    },
    {
      "id": "8a1f9b61-b424-43ed-b8f0-fc04d56d52a0",
      "cell_type": "code",
      "source": "rf = RandomForestClassifier(random_state=42)\nrf.fit(X_train_scaled, y_train)",
      "metadata": {
        "trusted": true
      },
      "outputs": [],
      "execution_count": null
    },
    {
      "id": "57df60b2-b8eb-418a-8e2b-5d2556d952c7",
      "cell_type": "code",
      "source": "y_pred = rf.predict(X_test_scaled)",
      "metadata": {
        "trusted": true
      },
      "outputs": [],
      "execution_count": null
    },
    {
      "id": "943d1252-9c53-464d-a313-b2bde193eef3",
      "cell_type": "code",
      "source": "print(f\"Accuracy: {accuracy_score(y_test, y_pred):.4f}\")",
      "metadata": {
        "trusted": true
      },
      "outputs": [],
      "execution_count": null
    },
    {
      "id": "809f56d9-d9b0-405e-8a9d-f4f8658db266",
      "cell_type": "code",
      "source": "print(classification_report(y_test, y_pred))",
      "metadata": {
        "trusted": true
      },
      "outputs": [],
      "execution_count": null
    },
    {
      "id": "8d22c979-df56-4c7f-a8f0-eaec097ac57f",
      "cell_type": "code",
      "source": "cm = confusion_matrix(y_test, y_pred)\nplt.figure(figsize=(6, 6))\nsns.heatmap(cm, annot=True, fmt='d', cmap='Blues', \n            xticklabels=['No Disease', 'Disease'], \n            yticklabels=['No Disease', 'Disease'])\nplt.xlabel('Predicted')\nplt.ylabel('Actual')\nplt.title('Confusion Matrix')\nplt.show()",
      "metadata": {
        "trusted": true
      },
      "outputs": [],
      "execution_count": null
    },
    {
      "id": "f4eb3738-a2ab-48fa-aa70-af79d3ed0291",
      "cell_type": "code",
      "source": "",
      "metadata": {
        "trusted": true
      },
      "outputs": [],
      "execution_count": null
    }
  ]
}